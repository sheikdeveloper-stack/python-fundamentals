{
 "cells": [
  {
   "cell_type": "code",
   "execution_count": null,
   "id": "a300e813-14ec-4afd-a1ca-1491eefdd0d3",
   "metadata": {},
   "outputs": [],
   "source": [
    "String Datatype : \n"
   ]
  },
  {
   "cell_type": "code",
   "execution_count": 2,
   "id": "6c8bd832-5f30-4827-9b04-c6846d35ea2d",
   "metadata": {},
   "outputs": [
    {
     "name": "stdout",
     "output_type": "stream",
     "text": [
      "Sheik Mohammed\n"
     ]
    }
   ],
   "source": [
    "Fullname = \"Sheik Mohammed\"\n",
    "print(Fullname)\n"
   ]
  },
  {
   "cell_type": "code",
   "execution_count": null,
   "id": "6996ee7a-df9e-4b81-9029-112464d69f9b",
   "metadata": {},
   "outputs": [],
   "source": [
    "Uppercase : "
   ]
  },
  {
   "cell_type": "code",
   "execution_count": 3,
   "id": "5048d1a5-1206-454d-b590-406dafc30c3e",
   "metadata": {},
   "outputs": [
    {
     "name": "stdout",
     "output_type": "stream",
     "text": [
      "RANVEER KAPOOR\n"
     ]
    }
   ],
   "source": [
    "fullname = \"Ranveer kapoor\"\n",
    "print(fullname.upper())"
   ]
  },
  {
   "cell_type": "code",
   "execution_count": null,
   "id": "a3c10573-f6c8-4885-953e-5221768b5f35",
   "metadata": {},
   "outputs": [],
   "source": [
    "Lowercase : "
   ]
  },
  {
   "cell_type": "code",
   "execution_count": 4,
   "id": "c8ef9dcf-2f67-4351-87fa-13510f3871ef",
   "metadata": {},
   "outputs": [
    {
     "name": "stdout",
     "output_type": "stream",
     "text": [
      "ranveer kapoor\n"
     ]
    }
   ],
   "source": [
    "fullname = \"Ranveer kapoor\"\n",
    "print(fullname.lower())"
   ]
  },
  {
   "cell_type": "code",
   "execution_count": null,
   "id": "304a36d5-125b-4b2c-98a9-d476e6b8c897",
   "metadata": {},
   "outputs": [],
   "source": [
    "Introduction to F strings : "
   ]
  },
  {
   "cell_type": "code",
   "execution_count": 6,
   "id": "ad17dafb-02c7-4ccc-b59b-98d96934795c",
   "metadata": {},
   "outputs": [
    {
     "ename": "SyntaxError",
     "evalue": "invalid syntax (690247266.py, line 1)",
     "output_type": "error",
     "traceback": [
      "\u001b[1;36m  Cell \u001b[1;32mIn[6], line 1\u001b[1;36m\u001b[0m\n\u001b[1;33m    general syntax :\u001b[0m\n\u001b[1;37m            ^\u001b[0m\n\u001b[1;31mSyntaxError\u001b[0m\u001b[1;31m:\u001b[0m invalid syntax\n"
     ]
    }
   ],
   "source": [
    "general syntax : \n",
    "f\"custom_message{placeholder1}{placeholder2}....{placeholdern}\".\n"
   ]
  },
  {
   "cell_type": "code",
   "execution_count": 8,
   "id": "9d49dc67-ea98-440b-8202-b19449172cfb",
   "metadata": {},
   "outputs": [
    {
     "name": "stdout",
     "output_type": "stream",
     "text": [
      "Sheik  Mohammed\n"
     ]
    }
   ],
   "source": [
    "firstname = \"Sheik\"\n",
    "lastname  = \"Mohammed\"\n",
    "fullname = f\"{firstname}  {lastname}\"\n",
    "print(fullname)"
   ]
  },
  {
   "cell_type": "code",
   "execution_count": 10,
   "id": "d2540d8f-19c9-4520-83da-f000bdc3f602",
   "metadata": {},
   "outputs": [
    {
     "name": "stdout",
     "output_type": "stream",
     "text": [
      "very good , you had done a good job! Sheik  Mohammed\n"
     ]
    }
   ],
   "source": [
    "message = f\"very good , you had done a good job! {fullname}\"\n",
    "print(message)"
   ]
  },
  {
   "cell_type": "code",
   "execution_count": null,
   "id": "5411a046-596d-47b0-b0bb-db62a7fee3db",
   "metadata": {},
   "outputs": [],
   "source": [
    "Adding whitespaces to strings : "
   ]
  },
  {
   "cell_type": "code",
   "execution_count": 13,
   "id": "5872a0e2-d86d-4d57-866f-df5e2720cea7",
   "metadata": {},
   "outputs": [
    {
     "name": "stdout",
     "output_type": "stream",
     "text": [
      "My favourite programming languages are : AIpythonJavaC++MachineLearning\n"
     ]
    }
   ],
   "source": [
    "print(\"My favourite programming languages are : AIpythonJavaC++MachineLearning\") "
   ]
  },
  {
   "cell_type": "code",
   "execution_count": 14,
   "id": "fe51fd1f-a07e-4de1-b6fd-1e2d8d7768b9",
   "metadata": {},
   "outputs": [
    {
     "name": "stdout",
     "output_type": "stream",
     "text": [
      "My favourite programming languages are : \n",
      "AI\n",
      "python\n",
      "Java\n",
      "C++\n",
      "MachineLearning\n"
     ]
    }
   ],
   "source": [
    "print(\"My favourite programming languages are : \\nAI\\npython\\nJava\\nC++\\nMachineLearning\") \n"
   ]
  },
  {
   "cell_type": "code",
   "execution_count": null,
   "id": "83c0ccf0-6542-4bd6-9196-d3068d14c15e",
   "metadata": {},
   "outputs": [],
   "source": [
    "print(\"My favourite programming languages are : \\n\\tAI\\n\\python\\nJava\\nC++\\nMachineLearning\") "
   ]
  }
 ],
 "metadata": {
  "kernelspec": {
   "display_name": "Python [conda env:base] *",
   "language": "python",
   "name": "conda-base-py"
  },
  "language_info": {
   "codemirror_mode": {
    "name": "ipython",
    "version": 3
   },
   "file_extension": ".py",
   "mimetype": "text/x-python",
   "name": "python",
   "nbconvert_exporter": "python",
   "pygments_lexer": "ipython3",
   "version": "3.13.5"
  }
 },
 "nbformat": 4,
 "nbformat_minor": 5
}
