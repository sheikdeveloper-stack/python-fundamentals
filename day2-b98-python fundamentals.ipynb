{
 "cells": [
  {
   "cell_type": "code",
   "execution_count": null,
   "id": "d0acd909-2897-4507-8acf-9809c7c1dcb3",
   "metadata": {},
   "outputs": [],
   "source": [
    "Introduction to python fundamentals"
   ]
  },
  {
   "cell_type": "code",
   "execution_count": null,
   "id": "5be90e87-4bc4-4453-b4e8-e031df5c58b4",
   "metadata": {},
   "outputs": [],
   "source": [
    "Understanding variables in python"
   ]
  },
  {
   "cell_type": "code",
   "execution_count": 2,
   "id": "201affe5-974a-44fb-b518-d807c73fd5fd",
   "metadata": {},
   "outputs": [],
   "source": [
    "a = 3\n",
    "b = 4"
   ]
  },
  {
   "cell_type": "code",
   "execution_count": 4,
   "id": "31bdd8be-fbd4-4814-9f75-cd997394536f",
   "metadata": {},
   "outputs": [
    {
     "name": "stdout",
     "output_type": "stream",
     "text": [
      "7\n"
     ]
    }
   ],
   "source": [
    "c = a+b\n",
    "print(c)\n"
   ]
  },
  {
   "cell_type": "code",
   "execution_count": null,
   "id": "1fe42df9-31b2-43de-838c-6173ab9c37a6",
   "metadata": {},
   "outputs": [],
   "source": [
    "rule no : 1 "
   ]
  },
  {
   "cell_type": "code",
   "execution_count": null,
   "id": "db08be09-7206-4198-af58-4c052b1d489a",
   "metadata": {},
   "outputs": [],
   "source": [
    "No namespace for declaring variables names\n"
   ]
  },
  {
   "cell_type": "code",
   "execution_count": 5,
   "id": "8a52ac7e-ca2b-40d5-9505-8d852223cb23",
   "metadata": {},
   "outputs": [
    {
     "name": "stdout",
     "output_type": "stream",
     "text": [
      "Sheik\n"
     ]
    }
   ],
   "source": [
    "Firstname = \"Sheik\"\n",
    "print (Firstname)"
   ]
  },
  {
   "cell_type": "raw",
   "id": "e83c10e3-4eee-4041-8215-f4f0e1d27cdc",
   "metadata": {},
   "source": [
    "Rule no : 2 \n"
   ]
  },
  {
   "cell_type": "code",
   "execution_count": null,
   "id": "77043bc6-9d46-46cb-b23c-f75c06090efa",
   "metadata": {},
   "outputs": [],
   "source": [
    "a variable name should not start with a number .\n"
   ]
  },
  {
   "cell_type": "code",
   "execution_count": 6,
   "id": "76dfd7f7-a3f1-4e82-a281-0ead51f90cf1",
   "metadata": {},
   "outputs": [
    {
     "name": "stdout",
     "output_type": "stream",
     "text": [
      "Mobileshop\n"
     ]
    }
   ],
   "source": [
    "Name1 = \"Mobileshop\"\n",
    "print (Name1)"
   ]
  },
  {
   "cell_type": "raw",
   "id": "fa5a1dfd-4bac-4114-99d5-2abc80d2d280",
   "metadata": {},
   "source": [
    "rule no : 3"
   ]
  },
  {
   "cell_type": "code",
   "execution_count": null,
   "id": "95234afa-2712-418c-97b8-b47d76675f62",
   "metadata": {},
   "outputs": [],
   "source": [
    "a variable name should not contain any special characters"
   ]
  },
  {
   "cell_type": "code",
   "execution_count": 7,
   "id": "eabb1f5e-d41c-4e7b-8685-1ddbc93ddbc2",
   "metadata": {},
   "outputs": [
    {
     "ename": "SyntaxError",
     "evalue": "invalid syntax (4134283374.py, line 1)",
     "output_type": "error",
     "traceback": [
      "\u001b[1;36m  Cell \u001b[1;32mIn[7], line 1\u001b[1;36m\u001b[0m\n\u001b[1;33m    name$ = \" Mohammed \"\u001b[0m\n\u001b[1;37m        ^\u001b[0m\n\u001b[1;31mSyntaxError\u001b[0m\u001b[1;31m:\u001b[0m invalid syntax\n"
     ]
    }
   ],
   "source": [
    "name$ = \" Mohammed \" \n",
    "print (name$)"
   ]
  },
  {
   "cell_type": "code",
   "execution_count": 8,
   "id": "ffc1cb3d-2cc0-41ea-a616-9606a74a5bcc",
   "metadata": {},
   "outputs": [
    {
     "name": "stdout",
     "output_type": "stream",
     "text": [
      " Mohammed \n"
     ]
    }
   ],
   "source": [
    "name = \" Mohammed \" \n",
    "print (name)"
   ]
  },
  {
   "cell_type": "code",
   "execution_count": null,
   "id": "58c5bbcf-01de-48e3-a7a7-ae030b20b897",
   "metadata": {},
   "outputs": [],
   "source": [
    "Datatypes in python"
   ]
  },
  {
   "cell_type": "code",
   "execution_count": 9,
   "id": "189844cb-b2c6-4961-b518-445a27fa7bcc",
   "metadata": {},
   "outputs": [
    {
     "ename": "IndentationError",
     "evalue": "unexpected indent (18662712.py, line 3)",
     "output_type": "error",
     "traceback": [
      "\u001b[1;36m  Cell \u001b[1;32mIn[9], line 3\u001b[1;36m\u001b[0m\n\u001b[1;33m    float (decimals)(0.1,0.2)\u001b[0m\n\u001b[1;37m    ^\u001b[0m\n\u001b[1;31mIndentationError\u001b[0m\u001b[1;31m:\u001b[0m unexpected indent\n"
     ]
    }
   ],
   "source": [
    "string = str \n",
    "numbers = integers (int) \n",
    "          float (decimals)(0.1,0.2)\n",
    "lists = list\n",
    "tuples = tuple \n",
    "dictionaries = dict "
   ]
  },
  {
   "cell_type": "code",
   "execution_count": null,
   "id": "b36f9ed3-8fb8-4bb8-8265-3a2b8965974f",
   "metadata": {},
   "outputs": [],
   "source": [
    "string : a string is a series of characters declared in a quote. string may be in single and double quote.\n"
   ]
  },
  {
   "cell_type": "code",
   "execution_count": 10,
   "id": "3fb3460c-22d7-437a-8b6c-e9bc2aadc3ff",
   "metadata": {},
   "outputs": [
    {
     "name": "stdout",
     "output_type": "stream",
     "text": [
      "raja\n"
     ]
    }
   ],
   "source": [
    "name1 = 'raja'\n",
    "print (name1)"
   ]
  },
  {
   "cell_type": "code",
   "execution_count": null,
   "id": "c443f5cf-3756-48e4-814a-4ac4954bdb1d",
   "metadata": {},
   "outputs": [],
   "source": []
  },
  {
   "cell_type": "code",
   "execution_count": null,
   "id": "4de1a1c0-c39c-4243-b04b-2a97aa584ef7",
   "metadata": {},
   "outputs": [],
   "source": [
    "name2 = \""
   ]
  }
 ],
 "metadata": {
  "kernelspec": {
   "display_name": "Python [conda env:base] *",
   "language": "python",
   "name": "conda-base-py"
  },
  "language_info": {
   "codemirror_mode": {
    "name": "ipython",
    "version": 3
   },
   "file_extension": ".py",
   "mimetype": "text/x-python",
   "name": "python",
   "nbconvert_exporter": "python",
   "pygments_lexer": "ipython3",
   "version": "3.13.5"
  }
 },
 "nbformat": 4,
 "nbformat_minor": 5
}
